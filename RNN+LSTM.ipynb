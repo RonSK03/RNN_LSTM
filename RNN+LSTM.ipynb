{
  "metadata": {
    "kernelspec": {
      "language": "python",
      "display_name": "Python 3",
      "name": "python3"
    },
    "language_info": {
      "name": "python",
      "version": "3.11.11",
      "mimetype": "text/x-python",
      "codemirror_mode": {
        "name": "ipython",
        "version": 3
      },
      "pygments_lexer": "ipython3",
      "nbconvert_exporter": "python",
      "file_extension": ".py"
    },
    "kaggle": {
      "accelerator": "gpu",
      "dataSources": [
        {
          "sourceId": 4243451,
          "sourceType": "datasetVersion",
          "datasetId": 32526,
          "isSourceIdPinned": false
        },
        {
          "sourceId": 12431001,
          "sourceType": "datasetVersion",
          "datasetId": 7841171
        },
        {
          "sourceId": 24799962,
          "sourceType": "kernelVersion"
        }
      ],
      "dockerImageVersionId": 31040,
      "isInternetEnabled": true,
      "language": "python",
      "sourceType": "notebook",
      "isGpuEnabled": true
    },
    "colab": {
      "name": "RNN+LSTM",
      "provenance": [],
      "include_colab_link": true
    }
  },
  "nbformat_minor": 0,
  "nbformat": 4,
  "cells": [
    {
      "cell_type": "markdown",
      "metadata": {
        "id": "view-in-github",
        "colab_type": "text"
      },
      "source": [
        "<a href=\"https://colab.research.google.com/github/RonSK03/RNN_LSTM/blob/main/RNN%2BLSTM.ipynb\" target=\"_parent\"><img src=\"https://colab.research.google.com/assets/colab-badge.svg\" alt=\"Open In Colab\"/></a>"
      ]
    },
    {
      "source": [
        "# IMPORTANT: SOME KAGGLE DATA SOURCES ARE PRIVATE\n",
        "# RUN THIS CELL IN ORDER TO IMPORT YOUR KAGGLE DATA SOURCES.\n",
        "import kagglehub\n",
        "kagglehub.login()\n"
      ],
      "metadata": {
        "id": "x-2gui0XeXyp"
      },
      "cell_type": "code",
      "outputs": [],
      "execution_count": null
    },
    {
      "source": [
        "# IMPORTANT: RUN THIS CELL IN ORDER TO IMPORT YOUR KAGGLE DATA SOURCES,\n",
        "# THEN FEEL FREE TO DELETE THIS CELL.\n",
        "# NOTE: THIS NOTEBOOK ENVIRONMENT DIFFERS FROM KAGGLE'S PYTHON\n",
        "# ENVIRONMENT SO THERE MAY BE MISSING LIBRARIES USED BY YOUR\n",
        "# NOTEBOOK.\n",
        "\n",
        "rmisra_news_category_dataset_path = kagglehub.dataset_download('rmisra/news-category-dataset')\n",
        "ronsk03_glove_dataset_path = kagglehub.dataset_download('ronsk03/glove-dataset')\n",
        "hassanamin_glove_based_text_classification_path = kagglehub.notebook_output_download('hassanamin/glove-based-text-classification')\n",
        "\n",
        "print('Data source import complete.')\n"
      ],
      "metadata": {
        "id": "Wg1dgRvOeXyt"
      },
      "cell_type": "code",
      "outputs": [],
      "execution_count": null
    },
    {
      "cell_type": "code",
      "source": [
        "import kagglehub\n",
        "\n",
        "# Download latest version\n",
        "path = kagglehub.dataset_download(\"rmisra/news-category-dataset\")\n",
        "\n",
        "print(\"Path to dataset files:\", path)"
      ],
      "metadata": {
        "_uuid": "8f2839f25d086af736a60e9eeb907d3b93b6e0e5",
        "_cell_guid": "b1076dfc-b9ad-4769-8c92-a6c4dae69d19",
        "trusted": true,
        "execution": {
          "iopub.status.busy": "2025-07-10T13:10:33.068473Z",
          "iopub.execute_input": "2025-07-10T13:10:33.068749Z",
          "iopub.status.idle": "2025-07-10T13:10:33.425065Z",
          "shell.execute_reply.started": "2025-07-10T13:10:33.068732Z",
          "shell.execute_reply": "2025-07-10T13:10:33.424272Z"
        },
        "id": "kw2qiHf3eXyx"
      },
      "outputs": [],
      "execution_count": null
    },
    {
      "cell_type": "code",
      "source": [
        "!pip install --no-cache-dir torch==2.1.2 torchvision==0.16.2 torchaudio==2.1.2 torchtext==0.16.2 --index-url https://download.pytorch.org/whl/cu118\n"
      ],
      "metadata": {
        "trusted": true,
        "execution": {
          "iopub.status.busy": "2025-07-10T13:10:33.426016Z",
          "iopub.execute_input": "2025-07-10T13:10:33.426295Z",
          "iopub.status.idle": "2025-07-10T13:10:36.665561Z",
          "shell.execute_reply.started": "2025-07-10T13:10:33.426254Z",
          "shell.execute_reply": "2025-07-10T13:10:36.664662Z"
        },
        "id": "jjIUKAHneXyz"
      },
      "outputs": [],
      "execution_count": null
    },
    {
      "cell_type": "code",
      "source": [
        "import torch\n",
        "import torchtext\n",
        "\n",
        "# This should now work without any errors.\n",
        "print(f\"PyTorch Version: {torch.__version__}\")\n",
        "print(f\"Torchtext Version: {torchtext.__version__}\")\n"
      ],
      "metadata": {
        "trusted": true,
        "execution": {
          "iopub.status.busy": "2025-07-10T13:10:36.66786Z",
          "iopub.execute_input": "2025-07-10T13:10:36.668133Z",
          "iopub.status.idle": "2025-07-10T13:10:38.897864Z",
          "shell.execute_reply.started": "2025-07-10T13:10:36.668108Z",
          "shell.execute_reply": "2025-07-10T13:10:38.897144Z"
        },
        "id": "5i4ggSWheXy0"
      },
      "outputs": [],
      "execution_count": null
    },
    {
      "cell_type": "code",
      "source": [
        "import torch\n",
        "device=torch.device('cpu')\n",
        "if torch.cuda.is_available():\n",
        "    device=torch.device('cuda')"
      ],
      "metadata": {
        "trusted": true,
        "execution": {
          "iopub.status.busy": "2025-07-10T13:10:38.898538Z",
          "iopub.execute_input": "2025-07-10T13:10:38.898896Z",
          "iopub.status.idle": "2025-07-10T13:10:38.929326Z",
          "shell.execute_reply.started": "2025-07-10T13:10:38.898877Z",
          "shell.execute_reply": "2025-07-10T13:10:38.928513Z"
        },
        "id": "R6rhzPIReXy1"
      },
      "outputs": [],
      "execution_count": null
    },
    {
      "cell_type": "code",
      "source": [
        "import pandas as pd\n",
        "import numpy as np\n",
        "import matplotlib.pyplot as plt"
      ],
      "metadata": {
        "trusted": true,
        "execution": {
          "iopub.status.busy": "2025-07-10T13:10:38.930029Z",
          "iopub.execute_input": "2025-07-10T13:10:38.930295Z",
          "iopub.status.idle": "2025-07-10T13:10:38.95314Z",
          "shell.execute_reply.started": "2025-07-10T13:10:38.930265Z",
          "shell.execute_reply": "2025-07-10T13:10:38.952534Z"
        },
        "id": "Fy61QYiPeXy2"
      },
      "outputs": [],
      "execution_count": null
    },
    {
      "cell_type": "code",
      "source": [
        "data_full=pd.read_json('/kaggle/input/news-category-dataset/News_Category_Dataset_v3.json', lines=True)"
      ],
      "metadata": {
        "trusted": true,
        "execution": {
          "iopub.status.busy": "2025-07-10T13:10:38.953788Z",
          "iopub.execute_input": "2025-07-10T13:10:38.953967Z",
          "iopub.status.idle": "2025-07-10T13:10:40.691075Z",
          "shell.execute_reply.started": "2025-07-10T13:10:38.953952Z",
          "shell.execute_reply": "2025-07-10T13:10:40.690468Z"
        },
        "id": "whVnznzoeXy3"
      },
      "outputs": [],
      "execution_count": null
    },
    {
      "cell_type": "code",
      "source": [
        "data_full.to_csv('news_dataset.csv', index=False)\n"
      ],
      "metadata": {
        "trusted": true,
        "execution": {
          "iopub.status.busy": "2025-07-10T13:10:40.69196Z",
          "iopub.execute_input": "2025-07-10T13:10:40.692193Z",
          "iopub.status.idle": "2025-07-10T13:10:43.016136Z",
          "shell.execute_reply.started": "2025-07-10T13:10:40.692174Z",
          "shell.execute_reply": "2025-07-10T13:10:43.015535Z"
        },
        "id": "0S-NUOXceXy4"
      },
      "outputs": [],
      "execution_count": null
    },
    {
      "cell_type": "code",
      "source": [
        "data_full"
      ],
      "metadata": {
        "trusted": true,
        "execution": {
          "iopub.status.busy": "2025-07-10T13:10:43.018403Z",
          "iopub.execute_input": "2025-07-10T13:10:43.018826Z",
          "iopub.status.idle": "2025-07-10T13:10:43.031451Z",
          "shell.execute_reply.started": "2025-07-10T13:10:43.018806Z",
          "shell.execute_reply": "2025-07-10T13:10:43.030757Z"
        },
        "id": "BVGSM40oeXy5"
      },
      "outputs": [],
      "execution_count": null
    },
    {
      "cell_type": "code",
      "source": [
        "features=data_full[['headline' ,'category' , 'short_description']]"
      ],
      "metadata": {
        "trusted": true,
        "execution": {
          "iopub.status.busy": "2025-07-10T13:10:43.032366Z",
          "iopub.execute_input": "2025-07-10T13:10:43.032636Z",
          "iopub.status.idle": "2025-07-10T13:10:43.055981Z",
          "shell.execute_reply.started": "2025-07-10T13:10:43.032615Z",
          "shell.execute_reply": "2025-07-10T13:10:43.055474Z"
        },
        "id": "lUZXUCFQeXy7"
      },
      "outputs": [],
      "execution_count": null
    },
    {
      "cell_type": "code",
      "source": [
        "features.head(5)"
      ],
      "metadata": {
        "trusted": true,
        "execution": {
          "iopub.status.busy": "2025-07-10T13:10:43.056592Z",
          "iopub.execute_input": "2025-07-10T13:10:43.056824Z",
          "iopub.status.idle": "2025-07-10T13:10:43.063702Z",
          "shell.execute_reply.started": "2025-07-10T13:10:43.056808Z",
          "shell.execute_reply": "2025-07-10T13:10:43.063127Z"
        },
        "id": "55niPXGqeXy7"
      },
      "outputs": [],
      "execution_count": null
    },
    {
      "cell_type": "code",
      "source": [
        "text=features[['headline', 'short_description']]"
      ],
      "metadata": {
        "trusted": true,
        "execution": {
          "iopub.status.busy": "2025-07-10T13:10:43.064392Z",
          "iopub.execute_input": "2025-07-10T13:10:43.064693Z",
          "iopub.status.idle": "2025-07-10T13:10:43.08691Z",
          "shell.execute_reply.started": "2025-07-10T13:10:43.064676Z",
          "shell.execute_reply": "2025-07-10T13:10:43.086356Z"
        },
        "id": "5FgT0qFEeXy8"
      },
      "outputs": [],
      "execution_count": null
    },
    {
      "cell_type": "code",
      "source": [
        "text.head(5)"
      ],
      "metadata": {
        "trusted": true,
        "execution": {
          "iopub.status.busy": "2025-07-10T13:10:43.087341Z",
          "iopub.execute_input": "2025-07-10T13:10:43.087561Z",
          "iopub.status.idle": "2025-07-10T13:10:43.094828Z",
          "shell.execute_reply.started": "2025-07-10T13:10:43.087536Z",
          "shell.execute_reply": "2025-07-10T13:10:43.094148Z"
        },
        "id": "ACWDZhL0eXy9"
      },
      "outputs": [],
      "execution_count": null
    },
    {
      "cell_type": "code",
      "source": [
        "text=pd.DataFrame({'headline':text['headline'].str.lower(),\n",
        "                   'short_description':text['short_description'].str.lower()})"
      ],
      "metadata": {
        "trusted": true,
        "execution": {
          "iopub.status.busy": "2025-07-10T13:10:43.095629Z",
          "iopub.execute_input": "2025-07-10T13:10:43.095874Z",
          "iopub.status.idle": "2025-07-10T13:10:43.286145Z",
          "shell.execute_reply.started": "2025-07-10T13:10:43.095853Z",
          "shell.execute_reply": "2025-07-10T13:10:43.285546Z"
        },
        "id": "ARTnqbRAeXy9"
      },
      "outputs": [],
      "execution_count": null
    },
    {
      "cell_type": "code",
      "source": [
        "text.head(5)"
      ],
      "metadata": {
        "trusted": true,
        "execution": {
          "iopub.status.busy": "2025-07-10T13:10:43.286847Z",
          "iopub.execute_input": "2025-07-10T13:10:43.287106Z",
          "iopub.status.idle": "2025-07-10T13:10:43.294365Z",
          "shell.execute_reply.started": "2025-07-10T13:10:43.287085Z",
          "shell.execute_reply": "2025-07-10T13:10:43.29365Z"
        },
        "id": "xYcxf_7yeXy-"
      },
      "outputs": [],
      "execution_count": null
    },
    {
      "cell_type": "code",
      "source": [
        "import nltk"
      ],
      "metadata": {
        "trusted": true,
        "execution": {
          "iopub.status.busy": "2025-07-10T13:10:43.29519Z",
          "iopub.execute_input": "2025-07-10T13:10:43.295443Z",
          "iopub.status.idle": "2025-07-10T13:10:43.916418Z",
          "shell.execute_reply.started": "2025-07-10T13:10:43.295418Z",
          "shell.execute_reply": "2025-07-10T13:10:43.915839Z"
        },
        "id": "gQzo728FeXy-"
      },
      "outputs": [],
      "execution_count": null
    },
    {
      "cell_type": "code",
      "source": [
        "nltk.download('all')"
      ],
      "metadata": {
        "trusted": true,
        "execution": {
          "iopub.status.busy": "2025-07-10T13:10:43.917107Z",
          "iopub.execute_input": "2025-07-10T13:10:43.917579Z",
          "iopub.status.idle": "2025-07-10T13:10:45.73384Z",
          "shell.execute_reply.started": "2025-07-10T13:10:43.917559Z",
          "shell.execute_reply": "2025-07-10T13:10:45.733078Z"
        },
        "id": "eGwuswg0eXy-"
      },
      "outputs": [],
      "execution_count": null
    },
    {
      "cell_type": "code",
      "source": [
        "from nltk import word_tokenize\n",
        "from nltk.corpus import stopwords"
      ],
      "metadata": {
        "trusted": true,
        "execution": {
          "iopub.status.busy": "2025-07-10T13:10:45.734618Z",
          "iopub.execute_input": "2025-07-10T13:10:45.734926Z",
          "iopub.status.idle": "2025-07-10T13:10:45.738075Z",
          "shell.execute_reply.started": "2025-07-10T13:10:45.734907Z",
          "shell.execute_reply": "2025-07-10T13:10:45.737548Z"
        },
        "id": "h0x3QgebeXy_"
      },
      "outputs": [],
      "execution_count": null
    },
    {
      "cell_type": "code",
      "source": [
        "stop_words = set(stopwords.words('english'))\n"
      ],
      "metadata": {
        "trusted": true,
        "execution": {
          "iopub.status.busy": "2025-07-10T13:10:45.738803Z",
          "iopub.execute_input": "2025-07-10T13:10:45.738992Z",
          "iopub.status.idle": "2025-07-10T13:10:45.755123Z",
          "shell.execute_reply.started": "2025-07-10T13:10:45.738979Z",
          "shell.execute_reply": "2025-07-10T13:10:45.75451Z"
        },
        "id": "nztIPqtveXzA"
      },
      "outputs": [],
      "execution_count": null
    },
    {
      "cell_type": "code",
      "source": [
        "text['headline']=text['headline'].apply(word_tokenize)\n",
        "text['short_description']=text['short_description'].apply(word_tokenize)"
      ],
      "metadata": {
        "trusted": true,
        "execution": {
          "iopub.status.busy": "2025-07-10T13:10:45.755807Z",
          "iopub.execute_input": "2025-07-10T13:10:45.756026Z",
          "iopub.status.idle": "2025-07-10T13:11:25.740226Z",
          "shell.execute_reply.started": "2025-07-10T13:10:45.75601Z",
          "shell.execute_reply": "2025-07-10T13:11:25.739605Z"
        },
        "id": "r8DTssH3eXzA"
      },
      "outputs": [],
      "execution_count": null
    },
    {
      "cell_type": "code",
      "source": [
        "text"
      ],
      "metadata": {
        "trusted": true,
        "execution": {
          "iopub.status.busy": "2025-07-10T13:11:25.741025Z",
          "iopub.execute_input": "2025-07-10T13:11:25.741298Z",
          "iopub.status.idle": "2025-07-10T13:11:25.754168Z",
          "shell.execute_reply.started": "2025-07-10T13:11:25.741272Z",
          "shell.execute_reply": "2025-07-10T13:11:25.753563Z"
        },
        "id": "8-iJWioKeXzB"
      },
      "outputs": [],
      "execution_count": null
    },
    {
      "cell_type": "code",
      "source": [
        "def stop_removal(tokend):\n",
        "  temp=[]\n",
        "  for w in tokend:\n",
        "    if w not in stop_words:\n",
        "      temp.append(w)\n",
        "  return temp"
      ],
      "metadata": {
        "trusted": true,
        "execution": {
          "iopub.status.busy": "2025-07-10T13:11:25.755026Z",
          "iopub.execute_input": "2025-07-10T13:11:25.755264Z",
          "iopub.status.idle": "2025-07-10T13:11:25.769544Z",
          "shell.execute_reply.started": "2025-07-10T13:11:25.755247Z",
          "shell.execute_reply": "2025-07-10T13:11:25.768851Z"
        },
        "id": "KJRMYB6leXzC"
      },
      "outputs": [],
      "execution_count": null
    },
    {
      "cell_type": "code",
      "source": [
        "text['headline']=text['headline'].apply(stop_removal)\n",
        "text['short_description']=text['short_description'].apply(stop_removal)\n"
      ],
      "metadata": {
        "trusted": true,
        "execution": {
          "iopub.status.busy": "2025-07-10T13:11:25.770175Z",
          "iopub.execute_input": "2025-07-10T13:11:25.770356Z",
          "iopub.status.idle": "2025-07-10T13:11:27.774222Z",
          "shell.execute_reply.started": "2025-07-10T13:11:25.770341Z",
          "shell.execute_reply": "2025-07-10T13:11:27.773633Z"
        },
        "id": "wGQfdfl1eXzC"
      },
      "outputs": [],
      "execution_count": null
    },
    {
      "cell_type": "code",
      "source": [
        "text"
      ],
      "metadata": {
        "trusted": true,
        "execution": {
          "iopub.status.busy": "2025-07-10T13:11:27.777405Z",
          "iopub.execute_input": "2025-07-10T13:11:27.777686Z",
          "iopub.status.idle": "2025-07-10T13:11:27.789637Z",
          "shell.execute_reply.started": "2025-07-10T13:11:27.77767Z",
          "shell.execute_reply": "2025-07-10T13:11:27.788921Z"
        },
        "id": "6ZHNNluMeXzD"
      },
      "outputs": [],
      "execution_count": null
    },
    {
      "cell_type": "code",
      "source": [
        "punc=[' ', ';', ':', ',','&','(', ')', '.']\n",
        "def punc_removal(tokend):\n",
        "  temp=[]\n",
        "  for w in tokend:\n",
        "    if w not in punc:\n",
        "      temp.append(w)\n",
        "  return temp"
      ],
      "metadata": {
        "trusted": true,
        "execution": {
          "iopub.status.busy": "2025-07-10T13:11:27.790451Z",
          "iopub.execute_input": "2025-07-10T13:11:27.790716Z",
          "iopub.status.idle": "2025-07-10T13:11:27.804468Z",
          "shell.execute_reply.started": "2025-07-10T13:11:27.7907Z",
          "shell.execute_reply": "2025-07-10T13:11:27.803697Z"
        },
        "id": "q0sF1VcteXzD"
      },
      "outputs": [],
      "execution_count": null
    },
    {
      "cell_type": "code",
      "source": [
        "text['headline']=text['headline'].apply(punc_removal)\n",
        "text['short_description']=text['short_description'].apply(punc_removal)\n"
      ],
      "metadata": {
        "trusted": true,
        "execution": {
          "iopub.status.busy": "2025-07-10T13:11:27.805328Z",
          "iopub.execute_input": "2025-07-10T13:11:27.805617Z",
          "iopub.status.idle": "2025-07-10T13:11:29.505109Z",
          "shell.execute_reply.started": "2025-07-10T13:11:27.805594Z",
          "shell.execute_reply": "2025-07-10T13:11:29.504209Z"
        },
        "id": "rGGxKuDheXzE"
      },
      "outputs": [],
      "execution_count": null
    },
    {
      "cell_type": "code",
      "source": [
        "text"
      ],
      "metadata": {
        "trusted": true,
        "execution": {
          "iopub.status.busy": "2025-07-10T13:11:29.50613Z",
          "iopub.execute_input": "2025-07-10T13:11:29.50643Z",
          "iopub.status.idle": "2025-07-10T13:11:29.523068Z",
          "shell.execute_reply.started": "2025-07-10T13:11:29.506404Z",
          "shell.execute_reply": "2025-07-10T13:11:29.52257Z"
        },
        "id": "1Bk1OgijeXzF"
      },
      "outputs": [],
      "execution_count": null
    },
    {
      "cell_type": "code",
      "source": [
        "import torchtext\n",
        "from torchtext.vocab import build_vocab_from_iterator"
      ],
      "metadata": {
        "trusted": true,
        "execution": {
          "iopub.status.busy": "2025-07-10T13:11:29.523575Z",
          "iopub.execute_input": "2025-07-10T13:11:29.523852Z",
          "iopub.status.idle": "2025-07-10T13:11:29.536658Z",
          "shell.execute_reply.started": "2025-07-10T13:11:29.523831Z",
          "shell.execute_reply": "2025-07-10T13:11:29.535871Z"
        },
        "id": "uBC1olsveXzF"
      },
      "outputs": [],
      "execution_count": null
    },
    {
      "cell_type": "code",
      "source": [
        "import torchtext\n",
        "from torchtext.vocab import build_vocab_from_iterator\n",
        "\n",
        "all_tokens = (text['headline'] + text['short_description']).tolist()\n",
        "specials = ['<UNK>', '<PAD>']\n",
        "final_vocab = build_vocab_from_iterator(all_tokens, specials=specials, min_freq=5)\n",
        "\n",
        "UNK_IDX = final_vocab['<UNK>']\n",
        "final_vocab.set_default_index(UNK_IDX)\n",
        "\n"
      ],
      "metadata": {
        "trusted": true,
        "execution": {
          "iopub.status.busy": "2025-07-10T13:11:29.537577Z",
          "iopub.execute_input": "2025-07-10T13:11:29.538259Z",
          "iopub.status.idle": "2025-07-10T13:11:31.416376Z",
          "shell.execute_reply.started": "2025-07-10T13:11:29.538223Z",
          "shell.execute_reply": "2025-07-10T13:11:31.415543Z"
        },
        "id": "TGJriI3ieXzG"
      },
      "outputs": [],
      "execution_count": null
    },
    {
      "cell_type": "code",
      "source": [
        "final_vocab"
      ],
      "metadata": {
        "trusted": true,
        "execution": {
          "iopub.status.busy": "2025-07-10T13:13:36.960863Z",
          "iopub.execute_input": "2025-07-10T13:13:36.96114Z",
          "iopub.status.idle": "2025-07-10T13:13:36.966272Z",
          "shell.execute_reply.started": "2025-07-10T13:13:36.961121Z",
          "shell.execute_reply": "2025-07-10T13:13:36.965511Z"
        },
        "id": "zi5llYVdeXzH"
      },
      "outputs": [],
      "execution_count": null
    },
    {
      "cell_type": "code",
      "source": [
        "category=features['category']"
      ],
      "metadata": {
        "trusted": true,
        "execution": {
          "iopub.status.busy": "2025-07-10T13:13:37.790675Z",
          "iopub.execute_input": "2025-07-10T13:13:37.791283Z",
          "iopub.status.idle": "2025-07-10T13:13:37.794667Z",
          "shell.execute_reply.started": "2025-07-10T13:13:37.791261Z",
          "shell.execute_reply": "2025-07-10T13:13:37.793913Z"
        },
        "id": "3d7COy_0eXzJ"
      },
      "outputs": [],
      "execution_count": null
    },
    {
      "cell_type": "code",
      "source": [
        "category"
      ],
      "metadata": {
        "trusted": true,
        "execution": {
          "iopub.status.busy": "2025-07-10T13:13:38.669043Z",
          "iopub.execute_input": "2025-07-10T13:13:38.669694Z",
          "iopub.status.idle": "2025-07-10T13:13:38.676197Z",
          "shell.execute_reply.started": "2025-07-10T13:13:38.669665Z",
          "shell.execute_reply": "2025-07-10T13:13:38.675326Z"
        },
        "id": "i6JsVz7FeXzJ"
      },
      "outputs": [],
      "execution_count": null
    },
    {
      "cell_type": "code",
      "source": [
        "category.str.lower()"
      ],
      "metadata": {
        "trusted": true,
        "execution": {
          "iopub.status.busy": "2025-07-10T13:13:39.94681Z",
          "iopub.execute_input": "2025-07-10T13:13:39.947075Z",
          "iopub.status.idle": "2025-07-10T13:13:40.007183Z",
          "shell.execute_reply.started": "2025-07-10T13:13:39.947058Z",
          "shell.execute_reply": "2025-07-10T13:13:40.00656Z"
        },
        "id": "LXoS8WIaeXzK"
      },
      "outputs": [],
      "execution_count": null
    },
    {
      "cell_type": "code",
      "source": [
        "from sklearn.preprocessing import LabelEncoder\n",
        "\n",
        "lwr_categories = features['category'].str.lower()\n",
        "\n",
        "label_encoder = LabelEncoder()\n",
        "numerical_labels = label_encoder.fit_transform(lwr_categories)\n",
        "\n",
        "NUM_CLASSES = len(label_encoder.classes_)\n",
        "\n"
      ],
      "metadata": {
        "trusted": true,
        "execution": {
          "iopub.status.busy": "2025-07-10T13:13:41.084255Z",
          "iopub.execute_input": "2025-07-10T13:13:41.084573Z",
          "iopub.status.idle": "2025-07-10T13:13:41.179387Z",
          "shell.execute_reply.started": "2025-07-10T13:13:41.084552Z",
          "shell.execute_reply": "2025-07-10T13:13:41.178611Z"
        },
        "id": "U_w4YWK3eXzK"
      },
      "outputs": [],
      "execution_count": null
    },
    {
      "cell_type": "code",
      "source": [
        "from torch.nn.utils.rnn import pad_sequence\n"
      ],
      "metadata": {
        "trusted": true,
        "execution": {
          "iopub.status.busy": "2025-07-10T13:13:42.26502Z",
          "iopub.execute_input": "2025-07-10T13:13:42.265297Z",
          "iopub.status.idle": "2025-07-10T13:13:42.269194Z",
          "shell.execute_reply.started": "2025-07-10T13:13:42.265274Z",
          "shell.execute_reply": "2025-07-10T13:13:42.268462Z"
        },
        "id": "lME_eT_FeXzL"
      },
      "outputs": [],
      "execution_count": null
    },
    {
      "cell_type": "code",
      "source": [
        "tensors = []\n",
        "for index, row in text.iterrows():\n",
        "    combined_tokens = row['headline'] + row['short_description']\n",
        "    numerical_input = final_vocab(combined_tokens)\n",
        "    tensors.append(torch.tensor(numerical_input))\n",
        "final_text = pad_sequence(tensors, batch_first=True, padding_value=final_vocab['<PAD>'])\n"
      ],
      "metadata": {
        "trusted": true,
        "execution": {
          "iopub.status.busy": "2025-07-10T13:13:43.470975Z",
          "iopub.execute_input": "2025-07-10T13:13:43.471589Z",
          "iopub.status.idle": "2025-07-10T13:13:58.794151Z",
          "shell.execute_reply.started": "2025-07-10T13:13:43.471567Z",
          "shell.execute_reply": "2025-07-10T13:13:58.793542Z"
        },
        "id": "HoIpfVXaeXzM"
      },
      "outputs": [],
      "execution_count": null
    },
    {
      "cell_type": "code",
      "source": [
        "from sklearn.model_selection import train_test_split\n",
        "X_train, X_test, y_train, y_test = train_test_split(final_text, numerical_labels, test_size=0.2)\n"
      ],
      "metadata": {
        "trusted": true,
        "execution": {
          "iopub.status.busy": "2025-07-10T13:13:58.795406Z",
          "iopub.execute_input": "2025-07-10T13:13:58.795715Z",
          "iopub.status.idle": "2025-07-10T13:13:58.966377Z",
          "shell.execute_reply.started": "2025-07-10T13:13:58.795691Z",
          "shell.execute_reply": "2025-07-10T13:13:58.965716Z"
        },
        "id": "socT7j3aeXzN"
      },
      "outputs": [],
      "execution_count": null
    },
    {
      "cell_type": "code",
      "source": [
        "\n",
        "def new_embedding(filepath, word_index, embedding_dim):\n",
        "    vocab_size = len(word_index)\n",
        "    embedding_matrix = np.zeros((vocab_size, embedding_dim))\n",
        "\n",
        "    with open(filepath, encoding=\"utf8\") as f:\n",
        "        for line in f:\n",
        "            word, *vector = line.split()\n",
        "            if word in word_index:\n",
        "                idx = word_index[word]\n",
        "                embedding_matrix[idx] = np.array(\n",
        "                    vector, dtype=np.float32)[:embedding_dim]\n",
        "\n",
        "    return torch.from_numpy(embedding_matrix)\n"
      ],
      "metadata": {
        "trusted": true,
        "execution": {
          "iopub.status.busy": "2025-07-10T13:13:58.967114Z",
          "iopub.execute_input": "2025-07-10T13:13:58.967375Z",
          "iopub.status.idle": "2025-07-10T13:13:58.972557Z",
          "shell.execute_reply.started": "2025-07-10T13:13:58.967353Z",
          "shell.execute_reply": "2025-07-10T13:13:58.971701Z"
        },
        "id": "h8i6yfpzeXzO"
      },
      "outputs": [],
      "execution_count": null
    },
    {
      "cell_type": "code",
      "source": [
        "glove_file_path = '/kaggle/input/glove-dataset/glove.6B.100d.txt'\n"
      ],
      "metadata": {
        "trusted": true,
        "execution": {
          "iopub.status.busy": "2025-07-10T13:13:58.974016Z",
          "iopub.execute_input": "2025-07-10T13:13:58.974219Z",
          "iopub.status.idle": "2025-07-10T13:13:58.991218Z",
          "shell.execute_reply.started": "2025-07-10T13:13:58.974203Z",
          "shell.execute_reply": "2025-07-10T13:13:58.990468Z"
        },
        "id": "Pe5I_F-0eXzZ"
      },
      "outputs": [],
      "execution_count": null
    },
    {
      "cell_type": "code",
      "source": [
        "initial_weights = new_embedding(\n",
        "    glove_file_path ,\n",
        "    final_vocab.get_stoi(),\n",
        "    100\n",
        ")\n"
      ],
      "metadata": {
        "trusted": true,
        "execution": {
          "iopub.status.busy": "2025-07-10T13:13:58.99189Z",
          "iopub.execute_input": "2025-07-10T13:13:58.992064Z",
          "iopub.status.idle": "2025-07-10T13:14:02.046887Z",
          "shell.execute_reply.started": "2025-07-10T13:13:58.992051Z",
          "shell.execute_reply": "2025-07-10T13:14:02.046008Z"
        },
        "id": "1pc-7CbueXzb"
      },
      "outputs": [],
      "execution_count": null
    },
    {
      "cell_type": "code",
      "source": [],
      "metadata": {
        "trusted": true,
        "id": "EaqouEXDeXzb"
      },
      "outputs": [],
      "execution_count": null
    },
    {
      "cell_type": "code",
      "source": [
        "import torch.optim as optim\n",
        "import torch.nn as nn\n",
        "\n",
        "class LSTM(nn.Module):\n",
        "    def __init__(self, vocab_size, embedded_dim, hidden_dim, output_dim, padding_idx, initial_weights):\n",
        "        super(LSTM, self).__init__()\n",
        "        self.embedding = nn.Embedding(vocab_size, embedded_dim, padding_idx=padding_idx)\n",
        "        self.embedding.weight.data.copy_(initial_weights)\n",
        "        self.embedding.weight.requires_grad = False\n",
        "\n",
        "        self.hidden_dim = hidden_dim\n",
        "        self.forget=nn.Linear(embedded_dim+hidden_dim, hidden_dim)\n",
        "        self.input=nn.Linear(embedded_dim+hidden_dim, hidden_dim)\n",
        "        self.output=nn.Linear(embedded_dim+hidden_dim, hidden_dim)\n",
        "        self.candidate=nn.Linear(embedded_dim+hidden_dim, hidden_dim)\n",
        "        self.fc = nn.Linear(hidden_dim, output_dim)\n",
        "        self.dropout = nn.Dropout(0.3)\n",
        "\n",
        "    def forward(self, text):\n",
        "        embedded=self.embedding(text)\n",
        "        batch_size, no_tokens, _ = embedded.shape\n",
        "        h_t_1 = torch.zeros(batch_size, self.hidden_dim).to(device)\n",
        "        c_t_1 = torch.zeros(batch_size, self.hidden_dim).to(device)\n",
        "        for t in range(no_tokens):\n",
        "            x_t = embedded[:, t, :]\n",
        "            f_t = torch.cat((x_t, h_t_1), dim=1)\n",
        "            f_t=self.forget(f_t)\n",
        "            f_t=torch.sigmoid(f_t)\n",
        "            c1_t=self.candidate(torch.cat((x_t , h_t_1), dim=1))\n",
        "            c1_t=torch.tanh(c1_t)\n",
        "            i_t=self.input(torch.cat((x_t , h_t_1), dim=1))\n",
        "            i_t=torch.sigmoid(i_t)\n",
        "            c_t = f_t * c_t_1 + i_t * c1_t\n",
        "            o_t=self.output(torch.cat((x_t , h_t_1), dim=1))\n",
        "            o_t=torch.sigmoid(o_t)\n",
        "            h_t=o_t*(torch.tanh(c_t))\n",
        "            h_t_1 = h_t\n",
        "            c_t_1 = c_t\n",
        "        h_t=self.dropout(h_t)\n",
        "\n",
        "\n",
        "        return self.fc(h_t)"
      ],
      "metadata": {
        "trusted": true,
        "execution": {
          "iopub.status.busy": "2025-07-10T13:14:02.047784Z",
          "iopub.execute_input": "2025-07-10T13:14:02.048057Z",
          "iopub.status.idle": "2025-07-10T13:14:02.057085Z",
          "shell.execute_reply.started": "2025-07-10T13:14:02.048035Z",
          "shell.execute_reply": "2025-07-10T13:14:02.056341Z"
        },
        "id": "1FDe_2MWeXzc"
      },
      "outputs": [],
      "execution_count": null
    },
    {
      "cell_type": "code",
      "source": [
        "device=torch.device('cpu')\n",
        "if torch.cuda.is_available():\n",
        "    device=torch.device('cuda')\n",
        "    print(\"cuda using\")"
      ],
      "metadata": {
        "trusted": true,
        "execution": {
          "iopub.status.busy": "2025-07-10T13:13:08.993948Z",
          "iopub.execute_input": "2025-07-10T13:13:08.994643Z",
          "iopub.status.idle": "2025-07-10T13:13:08.998847Z",
          "shell.execute_reply.started": "2025-07-10T13:13:08.994618Z",
          "shell.execute_reply": "2025-07-10T13:13:08.998057Z"
        },
        "id": "PthmeW2reXzc"
      },
      "outputs": [],
      "execution_count": null
    },
    {
      "cell_type": "code",
      "source": [
        "from torch.utils.data import Dataset, DataLoader\n",
        "\n",
        "class Datasetmaking(Dataset):\n",
        "    def __init__(self, X, y):\n",
        "        if isinstance(X, torch.Tensor):\n",
        "            self.X = X\n",
        "        else:\n",
        "            self.X = torch.tensor(list(X), dtype=torch.long)\n",
        "\n",
        "        if isinstance(y, torch.Tensor):\n",
        "            self.y = y\n",
        "        else:\n",
        "            self.y = torch.tensor(list(y), dtype=torch.long)\n",
        "\n",
        "    def __len__(self):\n",
        "        return len(self.X)\n",
        "\n",
        "    def __getitem__(self, idx):\n",
        "        return self.X[idx], self.y[idx]\n",
        "\n",
        "\n",
        "train_datas = Datasetmaking(X_train, y_train)\n",
        "trainer = DataLoader(train_datas, batch_size=32, shuffle=True)\n"
      ],
      "metadata": {
        "trusted": true,
        "execution": {
          "iopub.status.busy": "2025-07-10T13:14:02.057777Z",
          "iopub.execute_input": "2025-07-10T13:14:02.057996Z",
          "iopub.status.idle": "2025-07-10T13:14:02.102826Z",
          "shell.execute_reply.started": "2025-07-10T13:14:02.057977Z",
          "shell.execute_reply": "2025-07-10T13:14:02.102211Z"
        },
        "id": "8WO5U9upeXzd"
      },
      "outputs": [],
      "execution_count": null
    },
    {
      "cell_type": "code",
      "source": [
        "test_datas=Datasetmaking(X_test, y_test)\n",
        "tester=DataLoader(test_datas, batch_size=32, shuffle=False)"
      ],
      "metadata": {
        "trusted": true,
        "execution": {
          "iopub.status.busy": "2025-07-10T13:14:06.945392Z",
          "iopub.execute_input": "2025-07-10T13:14:06.946189Z",
          "iopub.status.idle": "2025-07-10T13:14:06.955952Z",
          "shell.execute_reply.started": "2025-07-10T13:14:06.946161Z",
          "shell.execute_reply": "2025-07-10T13:14:06.955233Z"
        },
        "id": "zu_hvjp2eXzd"
      },
      "outputs": [],
      "execution_count": null
    },
    {
      "cell_type": "code",
      "source": [
        "import torch.optim as optim\n",
        "\n",
        "model = pyRNN(\n",
        "    vocab_size=len(final_vocab),\n",
        "    embedding_dim=100,\n",
        "    hidden_dim=256,\n",
        "    output_dim=NUM_CLASSES,\n",
        "    n_layers=2,\n",
        "    dropout=0.5,\n",
        "    pad_idx=final_vocab['<PAD>']\n",
        ").to(device)\n",
        "\n",
        "model.embedding.weight.data.copy_(initial_weights)\n",
        "model.embedding.weight.requires_grad = False\n",
        "\n",
        "criterion = nn.CrossEntropyLoss()\n",
        "optimizer = optim.Adam(model.parameters(), lr=1e-3)\n",
        "\n",
        "for epoch in range(10):\n",
        "    model.train()\n",
        "    for batch_X, batch_y in trainer:\n",
        "        batch_X, batch_y = batch_X.to(device), batch_y.to(device)\n",
        "\n",
        "        optimizer.zero_grad()\n",
        "        output = model(batch_X)\n",
        "        loss = criterion(output, batch_y)\n",
        "        loss.backward()\n",
        "        optimizer.step()\n",
        "\n",
        "    model.eval()\n",
        "    correct = 0\n",
        "    total = 0\n",
        "    with torch.no_grad():\n",
        "        for batch_X, batch_y in tester:\n",
        "            batch_X, batch_y = batch_X.to(device), batch_y.to(device)\n",
        "            outputs = model(batch_X)\n",
        "            predictions = torch.argmax(outputs, dim=1)\n",
        "            correct += (predictions == batch_y).sum().item()\n",
        "            total += batch_y.size(0)\n",
        "\n",
        "    accuracy = correct / total * 100\n",
        "    print(f\"Epoch {epoch+1}: Test Accuracy = {accuracy:.2f}%\")"
      ],
      "metadata": {
        "trusted": true,
        "execution": {
          "iopub.status.busy": "2025-07-10T11:43:46.512637Z",
          "iopub.execute_input": "2025-07-10T11:43:46.512891Z",
          "iopub.status.idle": "2025-07-10T11:46:16.092224Z",
          "shell.execute_reply.started": "2025-07-10T11:43:46.512877Z",
          "shell.execute_reply": "2025-07-10T11:46:16.091156Z"
        },
        "id": "sbrQ9BVXeXze"
      },
      "outputs": [],
      "execution_count": null
    },
    {
      "cell_type": "code",
      "source": [
        "import torch.nn as nn\n",
        "\n",
        "class pyLSTM(nn.Module):\n",
        "    def __init__(self, vocab_size, embedding_dim, hidden_dim, output_dim, n_layers,\n",
        "                 dropout, pad_idx):\n",
        "\n",
        "        super().__init__()\n",
        "\n",
        "        self.embedding = nn.Embedding(vocab_size, embedding_dim, padding_idx=pad_idx)\n",
        "\n",
        "        self.lstm = nn.LSTM(embedding_dim,\n",
        "                           hidden_dim,\n",
        "                           num_layers=n_layers,\n",
        "                           batch_first=True)\n",
        "\n",
        "        self.fc = nn.Linear(hidden_dim, output_dim)\n",
        "\n",
        "        self.dropout = nn.Dropout(dropout)\n",
        "\n",
        "    def forward(self, text):\n",
        "        embedded = self.embedding(text)\n",
        "\n",
        "        outputs, (hidden, cell) = self.lstm(embedded)\n",
        "\n",
        "        hidden = self.dropout(hidden[-1,:,:])\n",
        "\n",
        "        return self.fc(hidden)"
      ],
      "metadata": {
        "trusted": true,
        "id": "2WFVURsMeXzf"
      },
      "outputs": [],
      "execution_count": null
    },
    {
      "cell_type": "code",
      "source": [
        "import torch.optim as optim\n",
        "\n",
        "model = pyLSTM(\n",
        "    vocab_size=len(final_vocab),\n",
        "    embedding_dim=100,\n",
        "    hidden_dim=256,\n",
        "    output_dim=NUM_CLASSES,\n",
        "    n_layers=2,\n",
        "    dropout=0.5,\n",
        "    pad_idx=final_vocab['<PAD>']\n",
        ").to(device)\n",
        "\n",
        "model.embedding.weight.data.copy_(initial_weights)\n",
        "model.embedding.weight.requires_grad = False\n",
        "\n",
        "criterion = nn.CrossEntropyLoss()\n",
        "optimizer = optim.Adam(model.parameters(), lr=1e-3)\n",
        "\n",
        "for epoch in range(10):\n",
        "    model.train()\n",
        "    for batch_X, batch_y in trainer:\n",
        "        batch_X, batch_y = batch_X.to(device), batch_y.to(device)\n",
        "\n",
        "        optimizer.zero_grad()\n",
        "        output = model(batch_X)\n",
        "        loss = criterion(output, batch_y)\n",
        "        loss.backward()\n",
        "        optimizer.step()\n",
        "\n",
        "    model.eval()\n",
        "    correct = 0\n",
        "    total = 0\n",
        "    with torch.no_grad():\n",
        "        for batch_X, batch_y in tester:\n",
        "            batch_X, batch_y = batch_X.to(device), batch_y.to(device)\n",
        "            outputs = model(batch_X)\n",
        "            predictions = torch.argmax(outputs, dim=1)\n",
        "            correct += (predictions == batch_y).sum().item()\n",
        "            total += batch_y.size(0)\n",
        "\n",
        "    accuracy = correct / total * 100\n",
        "    print(f\"Epoch {epoch+1}: Test Accuracy = {accuracy:.2f}%\")"
      ],
      "metadata": {
        "trusted": true,
        "id": "wXYr8VJueXzh"
      },
      "outputs": [],
      "execution_count": null
    },
    {
      "cell_type": "code",
      "source": [
        "import torch.optim as optim\n",
        "\n",
        "model = pyRNN(\n",
        "    vocab_size=len(final_vocab),\n",
        "    embedding_dim=100,\n",
        "    hidden_dim=256,\n",
        "    output_dim=NUM_CLASSES,\n",
        "    n_layers=2,\n",
        "    dropout=0.5,\n",
        "    pad_idx=final_vocab['<PAD>']\n",
        ").to(device)\n",
        "\n",
        "model.embedding.weight.data.copy_(initial_weights)\n",
        "model.embedding.weight.requires_grad = False\n",
        "\n",
        "criterion = nn.CrossEntropyLoss()\n",
        "optimizer = optim.Adam(model.parameters(), lr=1e-3)\n",
        "\n",
        "for epoch in range(10):\n",
        "    model.train()\n",
        "    for batch_X, batch_y in trainer:\n",
        "        batch_X, batch_y = batch_X.to(device), batch_y.to(device)\n",
        "\n",
        "        optimizer.zero_grad()\n",
        "        output = model(batch_X)\n",
        "        loss = criterion(output, batch_y)\n",
        "        loss.backward()\n",
        "        optimizer.step()\n",
        "\n",
        "    model.eval()\n",
        "    correct = 0\n",
        "    total = 0\n",
        "    with torch.no_grad():\n",
        "        for batch_X, batch_y in tester:\n",
        "            batch_X, batch_y = batch_X.to(device), batch_y.to(device)\n",
        "            outputs = model(batch_X)\n",
        "            predictions = torch.argmax(outputs, dim=1)\n",
        "            correct += (predictions == batch_y).sum().item()\n",
        "            total += batch_y.size(0)\n",
        "\n",
        "    accuracy = correct / total * 100\n",
        "    print(f\"Epoch {epoch+1}: Test Accuracy = {accuracy:.2f}%\")"
      ],
      "metadata": {
        "trusted": true,
        "id": "P-MSVNAreXzi"
      },
      "outputs": [],
      "execution_count": null
    },
    {
      "cell_type": "code",
      "source": [],
      "metadata": {
        "trusted": true,
        "id": "xwNuGzH7eXzi"
      },
      "outputs": [],
      "execution_count": null
    },
    {
      "cell_type": "code",
      "source": [],
      "metadata": {
        "trusted": true,
        "id": "lBqTitmxeXzj"
      },
      "outputs": [],
      "execution_count": null
    },
    {
      "cell_type": "code",
      "source": [],
      "metadata": {
        "trusted": true,
        "id": "ugbizbHaeXzj"
      },
      "outputs": [],
      "execution_count": null
    },
    {
      "cell_type": "code",
      "source": [
        "import torch.nn as nn\n",
        "\n",
        "class RNN(nn.Module):\n",
        "    def __init__(self, vocab_size, embedding_dim, hidden_dim, output_dim, padding_idx, initial_weights):\n",
        "        super(RNN, self).__init__()\n",
        "        self.embedding = nn.Embedding(vocab_size, embedding_dim, padding_idx=padding_idx)\n",
        "        self.embedding.weight.data.copy_(initial_weights)\n",
        "        self.embedding.weight.requires_grad = False\n",
        "\n",
        "        self.i2h = nn.Linear(embedding_dim, hidden_dim)\n",
        "        self.h2h = nn.Linear(hidden_dim, hidden_dim)\n",
        "        self.dropout = nn.Dropout(0.3)\n",
        "        self.fc = nn.Linear(hidden_dim, output_dim)\n",
        "\n",
        "    def forward(self, text):\n",
        "        embedded = self.embedding(text)\n",
        "        batch_size, no_tokens, _ = embedded.shape\n",
        "        h_t = torch.zeros(batch_size, self.h2h.out_features).to(device)\n",
        "        h_t_1=torch.zeros(batch_size, self.h2h.out_features).to(device)\n",
        "\n",
        "        for t in range(no_tokens):\n",
        "            x_t = embedded[:, t, :]  # [batch_size, embedding_dim]\n",
        "            h_t = torch.tanh(self.i2h(x_t) + self.h2h(h_t_1))\n",
        "            h_t_1=h_t\n",
        "        out = self.dropout(h_t)\n",
        "        out=self.fc(out)\n",
        "        return out\n"
      ],
      "metadata": {
        "trusted": true,
        "execution": {
          "iopub.status.busy": "2025-07-10T11:46:25.177615Z",
          "iopub.execute_input": "2025-07-10T11:46:25.178306Z",
          "iopub.status.idle": "2025-07-10T11:46:25.184303Z",
          "shell.execute_reply.started": "2025-07-10T11:46:25.178281Z",
          "shell.execute_reply": "2025-07-10T11:46:25.183669Z"
        },
        "id": "3aeUoEgMeXzk"
      },
      "outputs": [],
      "execution_count": null
    },
    {
      "cell_type": "code",
      "source": [
        "import torch.optim as optim\n",
        "\n",
        "model = LSTM(\n",
        "    vocab_size=len(final_vocab),\n",
        "    embedded_dim=100,\n",
        "    hidden_dim=128,\n",
        "    output_dim=42,\n",
        "    padding_idx=final_vocab['<PAD>'],\n",
        "    initial_weights=initial_weights\n",
        ").to(device)\n",
        "\n",
        "criterion = nn.CrossEntropyLoss()\n",
        "optimizer = optim.Adam(model.parameters(), lr=1e-3)\n",
        "\n",
        "for epoch in range(10):\n",
        "    model.train()\n",
        "    for batch_X, batch_y in trainer:\n",
        "        batch_X, batch_y = batch_X.to(device), batch_y.to(device)\n",
        "\n",
        "        optimizer.zero_grad()\n",
        "        output = model(batch_X)\n",
        "        loss = criterion(output, batch_y)\n",
        "        loss.backward()\n",
        "        optimizer.step()\n",
        "\n",
        "    model.eval()\n",
        "    correct = 0\n",
        "    total = 0\n",
        "\n",
        "    with torch.no_grad():\n",
        "        for batch_X, batch_y in tester:\n",
        "            batch_X, batch_y = batch_X.to(device), batch_y.to(device)\n",
        "            outputs = model(batch_X)\n",
        "            predictions = torch.argmax(outputs, dim=1)\n",
        "            correct += (predictions == batch_y).sum().item()\n",
        "            total += batch_y.size(0)\n",
        "\n",
        "    accuracy = correct / total * 100\n",
        "    print(f\"Epoch {epoch+1}: Test Accuracy = {accuracy:.2f}%\")\n"
      ],
      "metadata": {
        "trusted": true,
        "execution": {
          "iopub.status.busy": "2025-07-10T12:54:36.22363Z",
          "iopub.execute_input": "2025-07-10T12:54:36.224209Z",
          "iopub.status.idle": "2025-07-10T13:03:09.710473Z",
          "shell.execute_reply.started": "2025-07-10T12:54:36.224187Z",
          "shell.execute_reply": "2025-07-10T13:03:09.70952Z"
        },
        "id": "vmLENlndeXzl"
      },
      "outputs": [],
      "execution_count": null
    }
  ]
}